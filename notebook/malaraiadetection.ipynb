{
 "cells": [
  {
   "cell_type": "markdown",
   "id": "6eb8d513",
   "metadata": {},
   "source": [
    "Importing Libraries"
   ]
  },
  {
   "cell_type": "code",
   "execution_count": 3,
   "id": "d577ea1b",
   "metadata": {},
   "outputs": [],
   "source": [
    "import numpy as np\n",
    "import seaborn as sns\n",
    "import matplotlib.pyplot as mlt\n",
    "\n",
    "import torch\n",
    "from torchvision import datasets, transforms\n",
    "from torch.utils.data import DataLoader, random_split"
   ]
  },
  {
   "cell_type": "markdown",
   "id": "45d6d7b7",
   "metadata": {},
   "source": [
    "Defining Transformations"
   ]
  },
  {
   "cell_type": "code",
   "execution_count": 4,
   "id": "b995c2e3",
   "metadata": {},
   "outputs": [],
   "source": [
    "# For Training: Augmentation (helps to prevent overfitting) + Normalization\n",
    "trainTransforms = transforms.Compose([\n",
    "    transforms.Resize((224,224)),\n",
    "    transforms.RandomHorizontalFlip(),\n",
    "    transforms.RandomRotation(10),\n",
    "    transforms.ToTensor(), # Convert to Tensor (Pytorch uses tensor to store data for model.)\n",
    "    transforms.Normalize(mean=[0.485, 0.456, 0.406], std=[0.229, 0.224, 0.225])\n",
    "])\n",
    "\n",
    "# For test and validation:\n",
    "valTransforms = transforms.Compose([\n",
    "    transforms.Resize((224,224)),\n",
    "    transforms.ToTensor(),\n",
    "    transforms.Normalize(mean=[0.485, 0.456, 0.406], std=[0.229, 0.224, 0.225])\n",
    "])"
   ]
  },
  {
   "cell_type": "markdown",
   "id": "b6e6ae95",
   "metadata": {},
   "source": [
    "Loding the Dataset"
   ]
  },
  {
   "cell_type": "code",
   "execution_count": 5,
   "id": "642fe31b",
   "metadata": {},
   "outputs": [],
   "source": [
    "dataset = datasets.ImageFolder(root=\"D:\\cell_images\", transform=trainTransforms)\n",
    "# dataset = datasets.ImageFolder(root=\"\", transform=trainTransforms)"
   ]
  },
  {
   "cell_type": "markdown",
   "id": "e779da7e",
   "metadata": {},
   "source": [
    "Spliting the data into Train and Validation (80%-20%)"
   ]
  },
  {
   "cell_type": "code",
   "execution_count": 6,
   "id": "81cebc43",
   "metadata": {},
   "outputs": [],
   "source": [
    "trainSize = int(0.8*len(dataset))\n",
    "valSize = len(dataset) - trainSize\n",
    "trainDataset, valDataset = random_split(dataset, [trainSize, valSize])\n",
    "\n",
    "valDataset.dataset.transform = valTransforms"
   ]
  },
  {
   "cell_type": "markdown",
   "id": "401ac753",
   "metadata": {},
   "source": [
    "Creating a DataLoaders"
   ]
  },
  {
   "cell_type": "code",
   "execution_count": 7,
   "id": "b8158522",
   "metadata": {},
   "outputs": [],
   "source": [
    "tainLoader = DataLoader(trainDataset, batch_size=32, shuffle=True)\n",
    "valLoader = DataLoader(valDataset, batch_size=32, shuffle=False)"
   ]
  }
 ],
 "metadata": {
  "kernelspec": {
   "display_name": "myvenv",
   "language": "python",
   "name": "python3"
  },
  "language_info": {
   "codemirror_mode": {
    "name": "ipython",
    "version": 3
   },
   "file_extension": ".py",
   "mimetype": "text/x-python",
   "name": "python",
   "nbconvert_exporter": "python",
   "pygments_lexer": "ipython3",
   "version": "3.10.18"
  }
 },
 "nbformat": 4,
 "nbformat_minor": 5
}
